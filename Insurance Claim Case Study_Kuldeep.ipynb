{
 "cells": [
  {
   "cell_type": "code",
   "execution_count": 1,
   "id": "1d63bb8a",
   "metadata": {},
   "outputs": [],
   "source": [
    "import pandas as pd\n",
    "import numpy as np\n",
    "import matplotlib.pyplot as plt\n",
    "import seaborn as sns"
   ]
  },
  {
   "cell_type": "markdown",
   "id": "a535dada",
   "metadata": {},
   "source": [
    "### **1. Import claims_data.csv and cust_data.csv which is provided to you and combine the two datasets \n",
    "### **appropriately to create a 360-degree view of the data. Use the same for the subsequent questions.**"
   ]
  },
  {
   "cell_type": "code",
   "execution_count": 2,
   "id": "be414ea9",
   "metadata": {},
   "outputs": [],
   "source": [
    "cust_data = pd.read_csv(r\"C:\\Users\\Kuldeep Ragadwal\\Downloads\\Python Foundation Case Study 3 - Insurance Claims Case Study\\Case Study 3 - Insurance Claims Case Study\\cust_demographics.csv\")\n",
    "claims = pd.read_csv(r\"C:\\Users\\Kuldeep Ragadwal\\Downloads\\Python Foundation Case Study 3 - Insurance Claims Case Study\\Case Study 3 - Insurance Claims Case Study\\claims.csv\")"
   ]
  },
  {
   "cell_type": "code",
   "execution_count": 3,
   "id": "14a83786",
   "metadata": {},
   "outputs": [
    {
     "data": {
      "text/html": [
       "<div>\n",
       "<style scoped>\n",
       "    .dataframe tbody tr th:only-of-type {\n",
       "        vertical-align: middle;\n",
       "    }\n",
       "\n",
       "    .dataframe tbody tr th {\n",
       "        vertical-align: top;\n",
       "    }\n",
       "\n",
       "    .dataframe thead th {\n",
       "        text-align: right;\n",
       "    }\n",
       "</style>\n",
       "<table border=\"1\" class=\"dataframe\">\n",
       "  <thead>\n",
       "    <tr style=\"text-align: right;\">\n",
       "      <th></th>\n",
       "      <th>CUST_ID</th>\n",
       "      <th>gender</th>\n",
       "      <th>DateOfBirth</th>\n",
       "      <th>State</th>\n",
       "      <th>Contact</th>\n",
       "      <th>Segment</th>\n",
       "    </tr>\n",
       "  </thead>\n",
       "  <tbody>\n",
       "    <tr>\n",
       "      <th>0</th>\n",
       "      <td>21868593</td>\n",
       "      <td>Female</td>\n",
       "      <td>12-Jan-79</td>\n",
       "      <td>VT</td>\n",
       "      <td>789-916-8172</td>\n",
       "      <td>Platinum</td>\n",
       "    </tr>\n",
       "    <tr>\n",
       "      <th>1</th>\n",
       "      <td>75740424</td>\n",
       "      <td>Female</td>\n",
       "      <td>13-Jan-70</td>\n",
       "      <td>ME</td>\n",
       "      <td>265-543-1264</td>\n",
       "      <td>Silver</td>\n",
       "    </tr>\n",
       "    <tr>\n",
       "      <th>2</th>\n",
       "      <td>30308357</td>\n",
       "      <td>Female</td>\n",
       "      <td>11-Mar-84</td>\n",
       "      <td>TN</td>\n",
       "      <td>798-631-4758</td>\n",
       "      <td>Silver</td>\n",
       "    </tr>\n",
       "    <tr>\n",
       "      <th>3</th>\n",
       "      <td>47830476</td>\n",
       "      <td>Female</td>\n",
       "      <td>01-May-86</td>\n",
       "      <td>MA</td>\n",
       "      <td>413-187-7945</td>\n",
       "      <td>Silver</td>\n",
       "    </tr>\n",
       "  </tbody>\n",
       "</table>\n",
       "</div>"
      ],
      "text/plain": [
       "    CUST_ID  gender DateOfBirth State       Contact   Segment\n",
       "0  21868593  Female   12-Jan-79    VT  789-916-8172  Platinum\n",
       "1  75740424  Female   13-Jan-70    ME  265-543-1264    Silver\n",
       "2  30308357  Female   11-Mar-84    TN  798-631-4758    Silver\n",
       "3  47830476  Female   01-May-86    MA  413-187-7945    Silver"
      ]
     },
     "execution_count": 3,
     "metadata": {},
     "output_type": "execute_result"
    }
   ],
   "source": [
    "cust_data.head(4)"
   ]
  },
  {
   "cell_type": "code",
   "execution_count": 4,
   "id": "40d720ba",
   "metadata": {},
   "outputs": [
    {
     "data": {
      "text/html": [
       "<div>\n",
       "<style scoped>\n",
       "    .dataframe tbody tr th:only-of-type {\n",
       "        vertical-align: middle;\n",
       "    }\n",
       "\n",
       "    .dataframe tbody tr th {\n",
       "        vertical-align: top;\n",
       "    }\n",
       "\n",
       "    .dataframe thead th {\n",
       "        text-align: right;\n",
       "    }\n",
       "</style>\n",
       "<table border=\"1\" class=\"dataframe\">\n",
       "  <thead>\n",
       "    <tr style=\"text-align: right;\">\n",
       "      <th></th>\n",
       "      <th>claim_id</th>\n",
       "      <th>customer_id</th>\n",
       "      <th>incident_cause</th>\n",
       "      <th>claim_date</th>\n",
       "      <th>claim_area</th>\n",
       "      <th>police_report</th>\n",
       "      <th>claim_type</th>\n",
       "      <th>claim_amount</th>\n",
       "      <th>total_policy_claims</th>\n",
       "      <th>fraudulent</th>\n",
       "    </tr>\n",
       "  </thead>\n",
       "  <tbody>\n",
       "    <tr>\n",
       "      <th>0</th>\n",
       "      <td>54004764</td>\n",
       "      <td>21868593</td>\n",
       "      <td>Driver error</td>\n",
       "      <td>11/27/2017</td>\n",
       "      <td>Auto</td>\n",
       "      <td>No</td>\n",
       "      <td>Material only</td>\n",
       "      <td>$2980</td>\n",
       "      <td>1.0</td>\n",
       "      <td>No</td>\n",
       "    </tr>\n",
       "    <tr>\n",
       "      <th>1</th>\n",
       "      <td>33985796</td>\n",
       "      <td>75740424</td>\n",
       "      <td>Crime</td>\n",
       "      <td>10/03/2018</td>\n",
       "      <td>Home</td>\n",
       "      <td>Unknown</td>\n",
       "      <td>Material only</td>\n",
       "      <td>$2980</td>\n",
       "      <td>3.0</td>\n",
       "      <td>No</td>\n",
       "    </tr>\n",
       "    <tr>\n",
       "      <th>2</th>\n",
       "      <td>53522022</td>\n",
       "      <td>30308357</td>\n",
       "      <td>Other driver error</td>\n",
       "      <td>02/02/2018</td>\n",
       "      <td>Auto</td>\n",
       "      <td>No</td>\n",
       "      <td>Material only</td>\n",
       "      <td>$3369.5</td>\n",
       "      <td>1.0</td>\n",
       "      <td>Yes</td>\n",
       "    </tr>\n",
       "    <tr>\n",
       "      <th>3</th>\n",
       "      <td>13015401</td>\n",
       "      <td>47830476</td>\n",
       "      <td>Natural causes</td>\n",
       "      <td>06/17/2018</td>\n",
       "      <td>Auto</td>\n",
       "      <td>No</td>\n",
       "      <td>Material only</td>\n",
       "      <td>$1680</td>\n",
       "      <td>1.0</td>\n",
       "      <td>No</td>\n",
       "    </tr>\n",
       "  </tbody>\n",
       "</table>\n",
       "</div>"
      ],
      "text/plain": [
       "   claim_id  customer_id      incident_cause  claim_date claim_area  \\\n",
       "0  54004764     21868593        Driver error  11/27/2017       Auto   \n",
       "1  33985796     75740424               Crime  10/03/2018       Home   \n",
       "2  53522022     30308357  Other driver error  02/02/2018       Auto   \n",
       "3  13015401     47830476      Natural causes  06/17/2018       Auto   \n",
       "\n",
       "  police_report     claim_type claim_amount  total_policy_claims fraudulent  \n",
       "0            No  Material only        $2980                  1.0         No  \n",
       "1       Unknown  Material only        $2980                  3.0         No  \n",
       "2            No  Material only      $3369.5                  1.0        Yes  \n",
       "3            No  Material only        $1680                  1.0         No  "
      ]
     },
     "execution_count": 4,
     "metadata": {},
     "output_type": "execute_result"
    }
   ],
   "source": [
    "claims.head(4)"
   ]
  },
  {
   "cell_type": "code",
   "execution_count": 5,
   "id": "6267c877",
   "metadata": {},
   "outputs": [
    {
     "data": {
      "text/plain": [
       "CUST_ID         int64\n",
       "gender         object\n",
       "DateOfBirth    object\n",
       "State          object\n",
       "Contact        object\n",
       "Segment        object\n",
       "dtype: object"
      ]
     },
     "execution_count": 5,
     "metadata": {},
     "output_type": "execute_result"
    }
   ],
   "source": [
    "cust_data.dtypes"
   ]
  },
  {
   "cell_type": "code",
   "execution_count": 6,
   "id": "2f395928",
   "metadata": {},
   "outputs": [],
   "source": [
    "cust_data['DateOfBirth'] = pd.to_datetime(cust_data.DateOfBirth, format='%d-%b-%y') # to make object to datetime"
   ]
  },
  {
   "cell_type": "code",
   "execution_count": 7,
   "id": "3f7b76d2",
   "metadata": {},
   "outputs": [
    {
     "data": {
      "text/plain": [
       "CUST_ID                 int64\n",
       "gender                 object\n",
       "DateOfBirth    datetime64[ns]\n",
       "State                  object\n",
       "Contact                object\n",
       "Segment                object\n",
       "dtype: object"
      ]
     },
     "execution_count": 7,
     "metadata": {},
     "output_type": "execute_result"
    }
   ],
   "source": [
    "cust_data.dtypes"
   ]
  },
  {
   "cell_type": "code",
   "execution_count": 8,
   "id": "ee231d1b",
   "metadata": {},
   "outputs": [
    {
     "data": {
      "text/plain": [
       "claim_id                 int64\n",
       "customer_id              int64\n",
       "incident_cause          object\n",
       "claim_date              object\n",
       "claim_area              object\n",
       "police_report           object\n",
       "claim_type              object\n",
       "claim_amount            object\n",
       "total_policy_claims    float64\n",
       "fraudulent              object\n",
       "dtype: object"
      ]
     },
     "execution_count": 8,
     "metadata": {},
     "output_type": "execute_result"
    }
   ],
   "source": [
    "claims.dtypes"
   ]
  },
  {
   "cell_type": "code",
   "execution_count": 9,
   "id": "87fcbf3b",
   "metadata": {},
   "outputs": [
    {
     "data": {
      "text/html": [
       "<div>\n",
       "<style scoped>\n",
       "    .dataframe tbody tr th:only-of-type {\n",
       "        vertical-align: middle;\n",
       "    }\n",
       "\n",
       "    .dataframe tbody tr th {\n",
       "        vertical-align: top;\n",
       "    }\n",
       "\n",
       "    .dataframe thead th {\n",
       "        text-align: right;\n",
       "    }\n",
       "</style>\n",
       "<table border=\"1\" class=\"dataframe\">\n",
       "  <thead>\n",
       "    <tr style=\"text-align: right;\">\n",
       "      <th></th>\n",
       "      <th>claim_id</th>\n",
       "      <th>customer_id</th>\n",
       "      <th>incident_cause</th>\n",
       "      <th>claim_date</th>\n",
       "      <th>claim_area</th>\n",
       "      <th>police_report</th>\n",
       "      <th>claim_type</th>\n",
       "      <th>claim_amount</th>\n",
       "      <th>total_policy_claims</th>\n",
       "      <th>fraudulent</th>\n",
       "    </tr>\n",
       "  </thead>\n",
       "  <tbody>\n",
       "    <tr>\n",
       "      <th>0</th>\n",
       "      <td>54004764</td>\n",
       "      <td>21868593</td>\n",
       "      <td>Driver error</td>\n",
       "      <td>11/27/2017</td>\n",
       "      <td>Auto</td>\n",
       "      <td>No</td>\n",
       "      <td>Material only</td>\n",
       "      <td>$2980</td>\n",
       "      <td>1.0</td>\n",
       "      <td>No</td>\n",
       "    </tr>\n",
       "    <tr>\n",
       "      <th>1</th>\n",
       "      <td>33985796</td>\n",
       "      <td>75740424</td>\n",
       "      <td>Crime</td>\n",
       "      <td>10/03/2018</td>\n",
       "      <td>Home</td>\n",
       "      <td>Unknown</td>\n",
       "      <td>Material only</td>\n",
       "      <td>$2980</td>\n",
       "      <td>3.0</td>\n",
       "      <td>No</td>\n",
       "    </tr>\n",
       "    <tr>\n",
       "      <th>2</th>\n",
       "      <td>53522022</td>\n",
       "      <td>30308357</td>\n",
       "      <td>Other driver error</td>\n",
       "      <td>02/02/2018</td>\n",
       "      <td>Auto</td>\n",
       "      <td>No</td>\n",
       "      <td>Material only</td>\n",
       "      <td>$3369.5</td>\n",
       "      <td>1.0</td>\n",
       "      <td>Yes</td>\n",
       "    </tr>\n",
       "    <tr>\n",
       "      <th>3</th>\n",
       "      <td>13015401</td>\n",
       "      <td>47830476</td>\n",
       "      <td>Natural causes</td>\n",
       "      <td>06/17/2018</td>\n",
       "      <td>Auto</td>\n",
       "      <td>No</td>\n",
       "      <td>Material only</td>\n",
       "      <td>$1680</td>\n",
       "      <td>1.0</td>\n",
       "      <td>No</td>\n",
       "    </tr>\n",
       "  </tbody>\n",
       "</table>\n",
       "</div>"
      ],
      "text/plain": [
       "   claim_id  customer_id      incident_cause  claim_date claim_area  \\\n",
       "0  54004764     21868593        Driver error  11/27/2017       Auto   \n",
       "1  33985796     75740424               Crime  10/03/2018       Home   \n",
       "2  53522022     30308357  Other driver error  02/02/2018       Auto   \n",
       "3  13015401     47830476      Natural causes  06/17/2018       Auto   \n",
       "\n",
       "  police_report     claim_type claim_amount  total_policy_claims fraudulent  \n",
       "0            No  Material only        $2980                  1.0         No  \n",
       "1       Unknown  Material only        $2980                  3.0         No  \n",
       "2            No  Material only      $3369.5                  1.0        Yes  \n",
       "3            No  Material only        $1680                  1.0         No  "
      ]
     },
     "execution_count": 9,
     "metadata": {},
     "output_type": "execute_result"
    }
   ],
   "source": [
    "claims.head(4)"
   ]
  },
  {
   "cell_type": "code",
   "execution_count": 10,
   "id": "2b07cd91",
   "metadata": {},
   "outputs": [],
   "source": [
    "claims['claim_date'] = claims.claim_date.str.replace(\"/\", \"-\", regex=False) # firstlt we make all dates in same format."
   ]
  },
  {
   "cell_type": "code",
   "execution_count": 11,
   "id": "4196dd10",
   "metadata": {},
   "outputs": [
    {
     "data": {
      "text/html": [
       "<div>\n",
       "<style scoped>\n",
       "    .dataframe tbody tr th:only-of-type {\n",
       "        vertical-align: middle;\n",
       "    }\n",
       "\n",
       "    .dataframe tbody tr th {\n",
       "        vertical-align: top;\n",
       "    }\n",
       "\n",
       "    .dataframe thead th {\n",
       "        text-align: right;\n",
       "    }\n",
       "</style>\n",
       "<table border=\"1\" class=\"dataframe\">\n",
       "  <thead>\n",
       "    <tr style=\"text-align: right;\">\n",
       "      <th></th>\n",
       "      <th>claim_id</th>\n",
       "      <th>customer_id</th>\n",
       "      <th>incident_cause</th>\n",
       "      <th>claim_date</th>\n",
       "      <th>claim_area</th>\n",
       "      <th>police_report</th>\n",
       "      <th>claim_type</th>\n",
       "      <th>claim_amount</th>\n",
       "      <th>total_policy_claims</th>\n",
       "      <th>fraudulent</th>\n",
       "    </tr>\n",
       "  </thead>\n",
       "  <tbody>\n",
       "    <tr>\n",
       "      <th>0</th>\n",
       "      <td>54004764</td>\n",
       "      <td>21868593</td>\n",
       "      <td>Driver error</td>\n",
       "      <td>11-27-2017</td>\n",
       "      <td>Auto</td>\n",
       "      <td>No</td>\n",
       "      <td>Material only</td>\n",
       "      <td>$2980</td>\n",
       "      <td>1.0</td>\n",
       "      <td>No</td>\n",
       "    </tr>\n",
       "    <tr>\n",
       "      <th>1</th>\n",
       "      <td>33985796</td>\n",
       "      <td>75740424</td>\n",
       "      <td>Crime</td>\n",
       "      <td>10-03-2018</td>\n",
       "      <td>Home</td>\n",
       "      <td>Unknown</td>\n",
       "      <td>Material only</td>\n",
       "      <td>$2980</td>\n",
       "      <td>3.0</td>\n",
       "      <td>No</td>\n",
       "    </tr>\n",
       "    <tr>\n",
       "      <th>2</th>\n",
       "      <td>53522022</td>\n",
       "      <td>30308357</td>\n",
       "      <td>Other driver error</td>\n",
       "      <td>02-02-2018</td>\n",
       "      <td>Auto</td>\n",
       "      <td>No</td>\n",
       "      <td>Material only</td>\n",
       "      <td>$3369.5</td>\n",
       "      <td>1.0</td>\n",
       "      <td>Yes</td>\n",
       "    </tr>\n",
       "    <tr>\n",
       "      <th>3</th>\n",
       "      <td>13015401</td>\n",
       "      <td>47830476</td>\n",
       "      <td>Natural causes</td>\n",
       "      <td>06-17-2018</td>\n",
       "      <td>Auto</td>\n",
       "      <td>No</td>\n",
       "      <td>Material only</td>\n",
       "      <td>$1680</td>\n",
       "      <td>1.0</td>\n",
       "      <td>No</td>\n",
       "    </tr>\n",
       "    <tr>\n",
       "      <th>4</th>\n",
       "      <td>22890252</td>\n",
       "      <td>19269962</td>\n",
       "      <td>Crime</td>\n",
       "      <td>01-13-2018</td>\n",
       "      <td>Auto</td>\n",
       "      <td>No</td>\n",
       "      <td>Material only</td>\n",
       "      <td>$2680</td>\n",
       "      <td>1.0</td>\n",
       "      <td>No</td>\n",
       "    </tr>\n",
       "    <tr>\n",
       "      <th>...</th>\n",
       "      <td>...</td>\n",
       "      <td>...</td>\n",
       "      <td>...</td>\n",
       "      <td>...</td>\n",
       "      <td>...</td>\n",
       "      <td>...</td>\n",
       "      <td>...</td>\n",
       "      <td>...</td>\n",
       "      <td>...</td>\n",
       "      <td>...</td>\n",
       "    </tr>\n",
       "    <tr>\n",
       "      <th>1095</th>\n",
       "      <td>97727122</td>\n",
       "      <td>35951012</td>\n",
       "      <td>Other driver error</td>\n",
       "      <td>06-11-2017</td>\n",
       "      <td>Auto</td>\n",
       "      <td>No</td>\n",
       "      <td>Material only</td>\n",
       "      <td>$3059</td>\n",
       "      <td>4.0</td>\n",
       "      <td>Yes</td>\n",
       "    </tr>\n",
       "    <tr>\n",
       "      <th>1096</th>\n",
       "      <td>10247193</td>\n",
       "      <td>14818669</td>\n",
       "      <td>Natural causes</td>\n",
       "      <td>03-14-2018</td>\n",
       "      <td>Auto</td>\n",
       "      <td>No</td>\n",
       "      <td>Material only</td>\n",
       "      <td>$1520</td>\n",
       "      <td>2.0</td>\n",
       "      <td>No</td>\n",
       "    </tr>\n",
       "    <tr>\n",
       "      <th>1097</th>\n",
       "      <td>79807493</td>\n",
       "      <td>85322831</td>\n",
       "      <td>Other driver error</td>\n",
       "      <td>02-09-2018</td>\n",
       "      <td>Auto</td>\n",
       "      <td>No</td>\n",
       "      <td>Material and injury</td>\n",
       "      <td>$23575</td>\n",
       "      <td>2.0</td>\n",
       "      <td>Yes</td>\n",
       "    </tr>\n",
       "    <tr>\n",
       "      <th>1098</th>\n",
       "      <td>69299345</td>\n",
       "      <td>73449366</td>\n",
       "      <td>Other causes</td>\n",
       "      <td>03-21-2018</td>\n",
       "      <td>Auto</td>\n",
       "      <td>Unknown</td>\n",
       "      <td>Material and injury</td>\n",
       "      <td>$25120</td>\n",
       "      <td>1.0</td>\n",
       "      <td>No</td>\n",
       "    </tr>\n",
       "    <tr>\n",
       "      <th>1099</th>\n",
       "      <td>58809728</td>\n",
       "      <td>43020876</td>\n",
       "      <td>Other driver error</td>\n",
       "      <td>06-04-2017</td>\n",
       "      <td>Auto</td>\n",
       "      <td>Yes</td>\n",
       "      <td>Material and injury</td>\n",
       "      <td>$36685</td>\n",
       "      <td>3.0</td>\n",
       "      <td>Yes</td>\n",
       "    </tr>\n",
       "  </tbody>\n",
       "</table>\n",
       "<p>1100 rows × 10 columns</p>\n",
       "</div>"
      ],
      "text/plain": [
       "      claim_id  customer_id      incident_cause  claim_date claim_area  \\\n",
       "0     54004764     21868593        Driver error  11-27-2017       Auto   \n",
       "1     33985796     75740424               Crime  10-03-2018       Home   \n",
       "2     53522022     30308357  Other driver error  02-02-2018       Auto   \n",
       "3     13015401     47830476      Natural causes  06-17-2018       Auto   \n",
       "4     22890252     19269962               Crime  01-13-2018       Auto   \n",
       "...        ...          ...                 ...         ...        ...   \n",
       "1095  97727122     35951012  Other driver error  06-11-2017       Auto   \n",
       "1096  10247193     14818669      Natural causes  03-14-2018       Auto   \n",
       "1097  79807493     85322831  Other driver error  02-09-2018       Auto   \n",
       "1098  69299345     73449366        Other causes  03-21-2018       Auto   \n",
       "1099  58809728     43020876  Other driver error  06-04-2017       Auto   \n",
       "\n",
       "     police_report           claim_type claim_amount  total_policy_claims  \\\n",
       "0               No        Material only        $2980                  1.0   \n",
       "1          Unknown        Material only        $2980                  3.0   \n",
       "2               No        Material only      $3369.5                  1.0   \n",
       "3               No        Material only        $1680                  1.0   \n",
       "4               No        Material only        $2680                  1.0   \n",
       "...            ...                  ...          ...                  ...   \n",
       "1095            No        Material only        $3059                  4.0   \n",
       "1096            No        Material only        $1520                  2.0   \n",
       "1097            No  Material and injury       $23575                  2.0   \n",
       "1098       Unknown  Material and injury       $25120                  1.0   \n",
       "1099           Yes  Material and injury       $36685                  3.0   \n",
       "\n",
       "     fraudulent  \n",
       "0            No  \n",
       "1            No  \n",
       "2           Yes  \n",
       "3            No  \n",
       "4            No  \n",
       "...         ...  \n",
       "1095        Yes  \n",
       "1096         No  \n",
       "1097        Yes  \n",
       "1098         No  \n",
       "1099        Yes  \n",
       "\n",
       "[1100 rows x 10 columns]"
      ]
     },
     "execution_count": 11,
     "metadata": {},
     "output_type": "execute_result"
    }
   ],
   "source": [
    "claims"
   ]
  },
  {
   "cell_type": "code",
   "execution_count": 12,
   "id": "d2fabfae",
   "metadata": {},
   "outputs": [],
   "source": [
    "claims['claim_date'] = pd.to_datetime(claims.claim_date, format=\"%m-%d-%Y\") #make claim_date to datetime dtype"
   ]
  },
  {
   "cell_type": "code",
   "execution_count": 13,
   "id": "9538d79a",
   "metadata": {
    "scrolled": true
   },
   "outputs": [
    {
     "data": {
      "text/plain": [
       "claim_id                        int64\n",
       "customer_id                     int64\n",
       "incident_cause                 object\n",
       "claim_date             datetime64[ns]\n",
       "claim_area                     object\n",
       "police_report                  object\n",
       "claim_type                     object\n",
       "claim_amount                   object\n",
       "total_policy_claims           float64\n",
       "fraudulent                     object\n",
       "dtype: object"
      ]
     },
     "execution_count": 13,
     "metadata": {},
     "output_type": "execute_result"
    }
   ],
   "source": [
    "claims.dtypes"
   ]
  },
  {
   "cell_type": "code",
   "execution_count": 14,
   "id": "7d6f00bb",
   "metadata": {},
   "outputs": [],
   "source": [
    "claims['claim_amount'] = claims['claim_amount'].str.replace('$', '') #firstly remove '$' sign so can convert it do numeric."
   ]
  },
  {
   "cell_type": "code",
   "execution_count": 15,
   "id": "026105e2",
   "metadata": {},
   "outputs": [],
   "source": [
    "claims['claim_amount'] = claims['claim_amount'].astype('float') # using astype to convert into float dtype."
   ]
  },
  {
   "cell_type": "code",
   "execution_count": 16,
   "id": "24bc21b8",
   "metadata": {},
   "outputs": [
    {
     "data": {
      "text/plain": [
       "claim_id                        int64\n",
       "customer_id                     int64\n",
       "incident_cause                 object\n",
       "claim_date             datetime64[ns]\n",
       "claim_area                     object\n",
       "police_report                  object\n",
       "claim_type                     object\n",
       "claim_amount                  float64\n",
       "total_policy_claims           float64\n",
       "fraudulent                     object\n",
       "dtype: object"
      ]
     },
     "execution_count": 16,
     "metadata": {},
     "output_type": "execute_result"
    }
   ],
   "source": [
    "claims.dtypes"
   ]
  },
  {
   "cell_type": "code",
   "execution_count": 17,
   "id": "a4a40aa6",
   "metadata": {},
   "outputs": [],
   "source": [
    "cust_claim_360 = cust_data.merge(claims, how = 'left', left_on= 'CUST_ID', right_on='customer_id')"
   ]
  },
  {
   "cell_type": "code",
   "execution_count": 18,
   "id": "552d367a",
   "metadata": {},
   "outputs": [
    {
     "data": {
      "text/html": [
       "<div>\n",
       "<style scoped>\n",
       "    .dataframe tbody tr th:only-of-type {\n",
       "        vertical-align: middle;\n",
       "    }\n",
       "\n",
       "    .dataframe tbody tr th {\n",
       "        vertical-align: top;\n",
       "    }\n",
       "\n",
       "    .dataframe thead th {\n",
       "        text-align: right;\n",
       "    }\n",
       "</style>\n",
       "<table border=\"1\" class=\"dataframe\">\n",
       "  <thead>\n",
       "    <tr style=\"text-align: right;\">\n",
       "      <th></th>\n",
       "      <th>CUST_ID</th>\n",
       "      <th>gender</th>\n",
       "      <th>DateOfBirth</th>\n",
       "      <th>State</th>\n",
       "      <th>Contact</th>\n",
       "      <th>Segment</th>\n",
       "      <th>claim_id</th>\n",
       "      <th>customer_id</th>\n",
       "      <th>incident_cause</th>\n",
       "      <th>claim_date</th>\n",
       "      <th>claim_area</th>\n",
       "      <th>police_report</th>\n",
       "      <th>claim_type</th>\n",
       "      <th>claim_amount</th>\n",
       "      <th>total_policy_claims</th>\n",
       "      <th>fraudulent</th>\n",
       "    </tr>\n",
       "  </thead>\n",
       "  <tbody>\n",
       "    <tr>\n",
       "      <th>0</th>\n",
       "      <td>21868593</td>\n",
       "      <td>Female</td>\n",
       "      <td>1979-01-12</td>\n",
       "      <td>VT</td>\n",
       "      <td>789-916-8172</td>\n",
       "      <td>Platinum</td>\n",
       "      <td>54004764.0</td>\n",
       "      <td>21868593.0</td>\n",
       "      <td>Driver error</td>\n",
       "      <td>2017-11-27</td>\n",
       "      <td>Auto</td>\n",
       "      <td>No</td>\n",
       "      <td>Material only</td>\n",
       "      <td>2980.0</td>\n",
       "      <td>1.0</td>\n",
       "      <td>No</td>\n",
       "    </tr>\n",
       "    <tr>\n",
       "      <th>1</th>\n",
       "      <td>75740424</td>\n",
       "      <td>Female</td>\n",
       "      <td>1970-01-13</td>\n",
       "      <td>ME</td>\n",
       "      <td>265-543-1264</td>\n",
       "      <td>Silver</td>\n",
       "      <td>33985796.0</td>\n",
       "      <td>75740424.0</td>\n",
       "      <td>Crime</td>\n",
       "      <td>2018-10-03</td>\n",
       "      <td>Home</td>\n",
       "      <td>Unknown</td>\n",
       "      <td>Material only</td>\n",
       "      <td>2980.0</td>\n",
       "      <td>3.0</td>\n",
       "      <td>No</td>\n",
       "    </tr>\n",
       "    <tr>\n",
       "      <th>2</th>\n",
       "      <td>30308357</td>\n",
       "      <td>Female</td>\n",
       "      <td>1984-03-11</td>\n",
       "      <td>TN</td>\n",
       "      <td>798-631-4758</td>\n",
       "      <td>Silver</td>\n",
       "      <td>53522022.0</td>\n",
       "      <td>30308357.0</td>\n",
       "      <td>Other driver error</td>\n",
       "      <td>2018-02-02</td>\n",
       "      <td>Auto</td>\n",
       "      <td>No</td>\n",
       "      <td>Material only</td>\n",
       "      <td>3369.5</td>\n",
       "      <td>1.0</td>\n",
       "      <td>Yes</td>\n",
       "    </tr>\n",
       "    <tr>\n",
       "      <th>3</th>\n",
       "      <td>30308357</td>\n",
       "      <td>Female</td>\n",
       "      <td>1984-03-11</td>\n",
       "      <td>TN</td>\n",
       "      <td>798-631-4758</td>\n",
       "      <td>Silver</td>\n",
       "      <td>63017412.0</td>\n",
       "      <td>30308357.0</td>\n",
       "      <td>Driver error</td>\n",
       "      <td>2018-04-04</td>\n",
       "      <td>Auto</td>\n",
       "      <td>No</td>\n",
       "      <td>Material only</td>\n",
       "      <td>1950.0</td>\n",
       "      <td>6.0</td>\n",
       "      <td>No</td>\n",
       "    </tr>\n",
       "    <tr>\n",
       "      <th>4</th>\n",
       "      <td>47830476</td>\n",
       "      <td>Female</td>\n",
       "      <td>1986-05-01</td>\n",
       "      <td>MA</td>\n",
       "      <td>413-187-7945</td>\n",
       "      <td>Silver</td>\n",
       "      <td>13015401.0</td>\n",
       "      <td>47830476.0</td>\n",
       "      <td>Natural causes</td>\n",
       "      <td>2018-06-17</td>\n",
       "      <td>Auto</td>\n",
       "      <td>No</td>\n",
       "      <td>Material only</td>\n",
       "      <td>1680.0</td>\n",
       "      <td>1.0</td>\n",
       "      <td>No</td>\n",
       "    </tr>\n",
       "    <tr>\n",
       "      <th>...</th>\n",
       "      <td>...</td>\n",
       "      <td>...</td>\n",
       "      <td>...</td>\n",
       "      <td>...</td>\n",
       "      <td>...</td>\n",
       "      <td>...</td>\n",
       "      <td>...</td>\n",
       "      <td>...</td>\n",
       "      <td>...</td>\n",
       "      <td>...</td>\n",
       "      <td>...</td>\n",
       "      <td>...</td>\n",
       "      <td>...</td>\n",
       "      <td>...</td>\n",
       "      <td>...</td>\n",
       "      <td>...</td>\n",
       "    </tr>\n",
       "    <tr>\n",
       "      <th>1087</th>\n",
       "      <td>79539873</td>\n",
       "      <td>Female</td>\n",
       "      <td>1981-03-15</td>\n",
       "      <td>ND</td>\n",
       "      <td>459-425-4319</td>\n",
       "      <td>Platinum</td>\n",
       "      <td>62020796.0</td>\n",
       "      <td>79539873.0</td>\n",
       "      <td>Other driver error</td>\n",
       "      <td>2018-09-06</td>\n",
       "      <td>Auto</td>\n",
       "      <td>Yes</td>\n",
       "      <td>Material only</td>\n",
       "      <td>1770.0</td>\n",
       "      <td>1.0</td>\n",
       "      <td>No</td>\n",
       "    </tr>\n",
       "    <tr>\n",
       "      <th>1088</th>\n",
       "      <td>42364152</td>\n",
       "      <td>Female</td>\n",
       "      <td>1996-07-07</td>\n",
       "      <td>ID</td>\n",
       "      <td>529-462-1635</td>\n",
       "      <td>Silver</td>\n",
       "      <td>63269067.0</td>\n",
       "      <td>42364152.0</td>\n",
       "      <td>Other causes</td>\n",
       "      <td>2017-05-09</td>\n",
       "      <td>Home</td>\n",
       "      <td>No</td>\n",
       "      <td>Material only</td>\n",
       "      <td>2800.0</td>\n",
       "      <td>1.0</td>\n",
       "      <td>No</td>\n",
       "    </tr>\n",
       "    <tr>\n",
       "      <th>1089</th>\n",
       "      <td>19888166</td>\n",
       "      <td>Male</td>\n",
       "      <td>1990-04-11</td>\n",
       "      <td>WI</td>\n",
       "      <td>712-651-9613</td>\n",
       "      <td>Gold</td>\n",
       "      <td>22690595.0</td>\n",
       "      <td>19888166.0</td>\n",
       "      <td>Other driver error</td>\n",
       "      <td>2017-05-15</td>\n",
       "      <td>Auto</td>\n",
       "      <td>Yes</td>\n",
       "      <td>Injury only</td>\n",
       "      <td>33080.0</td>\n",
       "      <td>2.0</td>\n",
       "      <td>No</td>\n",
       "    </tr>\n",
       "    <tr>\n",
       "      <th>1090</th>\n",
       "      <td>11256802</td>\n",
       "      <td>Female</td>\n",
       "      <td>2064-10-22</td>\n",
       "      <td>LA</td>\n",
       "      <td>469-345-5617</td>\n",
       "      <td>Silver</td>\n",
       "      <td>12376894.0</td>\n",
       "      <td>11256802.0</td>\n",
       "      <td>Other driver error</td>\n",
       "      <td>2017-04-18</td>\n",
       "      <td>Auto</td>\n",
       "      <td>No</td>\n",
       "      <td>Material only</td>\n",
       "      <td>2840.0</td>\n",
       "      <td>4.0</td>\n",
       "      <td>No</td>\n",
       "    </tr>\n",
       "    <tr>\n",
       "      <th>1091</th>\n",
       "      <td>61575264</td>\n",
       "      <td>Male</td>\n",
       "      <td>1995-07-12</td>\n",
       "      <td>WY</td>\n",
       "      <td>182-385-1392</td>\n",
       "      <td>Gold</td>\n",
       "      <td>63226031.0</td>\n",
       "      <td>61575264.0</td>\n",
       "      <td>Natural causes</td>\n",
       "      <td>2017-03-16</td>\n",
       "      <td>Auto</td>\n",
       "      <td>No</td>\n",
       "      <td>Material only</td>\n",
       "      <td>1490.0</td>\n",
       "      <td>1.0</td>\n",
       "      <td>No</td>\n",
       "    </tr>\n",
       "  </tbody>\n",
       "</table>\n",
       "<p>1092 rows × 16 columns</p>\n",
       "</div>"
      ],
      "text/plain": [
       "       CUST_ID  gender DateOfBirth State       Contact   Segment    claim_id  \\\n",
       "0     21868593  Female  1979-01-12    VT  789-916-8172  Platinum  54004764.0   \n",
       "1     75740424  Female  1970-01-13    ME  265-543-1264    Silver  33985796.0   \n",
       "2     30308357  Female  1984-03-11    TN  798-631-4758    Silver  53522022.0   \n",
       "3     30308357  Female  1984-03-11    TN  798-631-4758    Silver  63017412.0   \n",
       "4     47830476  Female  1986-05-01    MA  413-187-7945    Silver  13015401.0   \n",
       "...        ...     ...         ...   ...           ...       ...         ...   \n",
       "1087  79539873  Female  1981-03-15    ND  459-425-4319  Platinum  62020796.0   \n",
       "1088  42364152  Female  1996-07-07    ID  529-462-1635    Silver  63269067.0   \n",
       "1089  19888166    Male  1990-04-11    WI  712-651-9613      Gold  22690595.0   \n",
       "1090  11256802  Female  2064-10-22    LA  469-345-5617    Silver  12376894.0   \n",
       "1091  61575264    Male  1995-07-12    WY  182-385-1392      Gold  63226031.0   \n",
       "\n",
       "      customer_id      incident_cause claim_date claim_area police_report  \\\n",
       "0      21868593.0        Driver error 2017-11-27       Auto            No   \n",
       "1      75740424.0               Crime 2018-10-03       Home       Unknown   \n",
       "2      30308357.0  Other driver error 2018-02-02       Auto            No   \n",
       "3      30308357.0        Driver error 2018-04-04       Auto            No   \n",
       "4      47830476.0      Natural causes 2018-06-17       Auto            No   \n",
       "...           ...                 ...        ...        ...           ...   \n",
       "1087   79539873.0  Other driver error 2018-09-06       Auto           Yes   \n",
       "1088   42364152.0        Other causes 2017-05-09       Home            No   \n",
       "1089   19888166.0  Other driver error 2017-05-15       Auto           Yes   \n",
       "1090   11256802.0  Other driver error 2017-04-18       Auto            No   \n",
       "1091   61575264.0      Natural causes 2017-03-16       Auto            No   \n",
       "\n",
       "         claim_type  claim_amount  total_policy_claims fraudulent  \n",
       "0     Material only        2980.0                  1.0         No  \n",
       "1     Material only        2980.0                  3.0         No  \n",
       "2     Material only        3369.5                  1.0        Yes  \n",
       "3     Material only        1950.0                  6.0         No  \n",
       "4     Material only        1680.0                  1.0         No  \n",
       "...             ...           ...                  ...        ...  \n",
       "1087  Material only        1770.0                  1.0         No  \n",
       "1088  Material only        2800.0                  1.0         No  \n",
       "1089    Injury only       33080.0                  2.0         No  \n",
       "1090  Material only        2840.0                  4.0         No  \n",
       "1091  Material only        1490.0                  1.0         No  \n",
       "\n",
       "[1092 rows x 16 columns]"
      ]
     },
     "execution_count": 18,
     "metadata": {},
     "output_type": "execute_result"
    }
   ],
   "source": [
    "cust_claim_360"
   ]
  },
  {
   "cell_type": "code",
   "execution_count": 19,
   "id": "95599d4c",
   "metadata": {},
   "outputs": [],
   "source": [
    "cust_claim_360.drop(columns= 'customer_id', inplace= True)"
   ]
  },
  {
   "cell_type": "code",
   "execution_count": 20,
   "id": "9d6eed88",
   "metadata": {},
   "outputs": [
    {
     "data": {
      "text/plain": [
       "CUST_ID                         int64\n",
       "gender                         object\n",
       "DateOfBirth            datetime64[ns]\n",
       "State                          object\n",
       "Contact                        object\n",
       "Segment                        object\n",
       "claim_id                      float64\n",
       "incident_cause                 object\n",
       "claim_date             datetime64[ns]\n",
       "claim_area                     object\n",
       "police_report                  object\n",
       "claim_type                     object\n",
       "claim_amount                  float64\n",
       "total_policy_claims           float64\n",
       "fraudulent                     object\n",
       "dtype: object"
      ]
     },
     "execution_count": 20,
     "metadata": {},
     "output_type": "execute_result"
    }
   ],
   "source": [
    "cust_claim_360.dtypes"
   ]
  },
  {
   "cell_type": "code",
   "execution_count": 21,
   "id": "0058c2c0",
   "metadata": {},
   "outputs": [
    {
     "name": "stdout",
     "output_type": "stream",
     "text": [
      "<class 'pandas.core.frame.DataFrame'>\n",
      "RangeIndex: 1092 entries, 0 to 1091\n",
      "Data columns (total 15 columns):\n",
      " #   Column               Non-Null Count  Dtype         \n",
      "---  ------               --------------  -----         \n",
      " 0   CUST_ID              1092 non-null   int64         \n",
      " 1   gender               1092 non-null   object        \n",
      " 2   DateOfBirth          1092 non-null   datetime64[ns]\n",
      " 3   State                1092 non-null   object        \n",
      " 4   Contact              1092 non-null   object        \n",
      " 5   Segment              1092 non-null   object        \n",
      " 6   claim_id             1085 non-null   float64       \n",
      " 7   incident_cause       1085 non-null   object        \n",
      " 8   claim_date           1085 non-null   datetime64[ns]\n",
      " 9   claim_area           1085 non-null   object        \n",
      " 10  police_report        1085 non-null   object        \n",
      " 11  claim_type           1085 non-null   object        \n",
      " 12  claim_amount         1020 non-null   float64       \n",
      " 13  total_policy_claims  1075 non-null   float64       \n",
      " 14  fraudulent           1085 non-null   object        \n",
      "dtypes: datetime64[ns](2), float64(3), int64(1), object(9)\n",
      "memory usage: 128.1+ KB\n"
     ]
    }
   ],
   "source": [
    "cust_claim_360.info()"
   ]
  },
  {
   "cell_type": "code",
   "execution_count": 22,
   "id": "8506a7fe",
   "metadata": {},
   "outputs": [
    {
     "data": {
      "text/plain": [
       "CUST_ID                1085\n",
       "gender                    2\n",
       "DateOfBirth            1085\n",
       "State                    50\n",
       "Contact                1085\n",
       "Segment                   3\n",
       "claim_id               1085\n",
       "incident_cause            5\n",
       "claim_date              100\n",
       "claim_area                2\n",
       "police_report             3\n",
       "claim_type                3\n",
       "claim_amount            676\n",
       "total_policy_claims       8\n",
       "fraudulent                2\n",
       "dtype: int64"
      ]
     },
     "execution_count": 22,
     "metadata": {},
     "output_type": "execute_result"
    }
   ],
   "source": [
    "cust_claim_360.nunique()"
   ]
  },
  {
   "cell_type": "code",
   "execution_count": 23,
   "id": "4494113f",
   "metadata": {},
   "outputs": [
    {
     "data": {
      "text/plain": [
       "Index(['CUST_ID', 'gender', 'DateOfBirth', 'State', 'Contact', 'Segment',\n",
       "       'claim_id', 'incident_cause', 'claim_date', 'claim_area',\n",
       "       'police_report', 'claim_type', 'claim_amount', 'total_policy_claims',\n",
       "       'fraudulent'],\n",
       "      dtype='object')"
      ]
     },
     "execution_count": 23,
     "metadata": {},
     "output_type": "execute_result"
    }
   ],
   "source": [
    "cust_claim_360.columns"
   ]
  },
  {
   "cell_type": "code",
   "execution_count": 24,
   "id": "3d2e1a1e",
   "metadata": {},
   "outputs": [
    {
     "name": "stdout",
     "output_type": "stream",
     "text": [
      "<class 'pandas.core.frame.DataFrame'>\n",
      "RangeIndex: 1092 entries, 0 to 1091\n",
      "Data columns (total 15 columns):\n",
      " #   Column               Non-Null Count  Dtype         \n",
      "---  ------               --------------  -----         \n",
      " 0   CUST_ID              1092 non-null   int64         \n",
      " 1   gender               1092 non-null   object        \n",
      " 2   DateOfBirth          1092 non-null   datetime64[ns]\n",
      " 3   State                1092 non-null   object        \n",
      " 4   Contact              1092 non-null   object        \n",
      " 5   Segment              1092 non-null   object        \n",
      " 6   claim_id             1085 non-null   float64       \n",
      " 7   incident_cause       1085 non-null   object        \n",
      " 8   claim_date           1085 non-null   datetime64[ns]\n",
      " 9   claim_area           1085 non-null   object        \n",
      " 10  police_report        1085 non-null   object        \n",
      " 11  claim_type           1085 non-null   object        \n",
      " 12  claim_amount         1020 non-null   float64       \n",
      " 13  total_policy_claims  1075 non-null   float64       \n",
      " 14  fraudulent           1085 non-null   object        \n",
      "dtypes: datetime64[ns](2), float64(3), int64(1), object(9)\n",
      "memory usage: 128.1+ KB\n"
     ]
    }
   ],
   "source": [
    "cust_claim_360.info()"
   ]
  },
  {
   "cell_type": "markdown",
   "id": "9a8e8389",
   "metadata": {},
   "source": [
    " ## **Note: Question 2 and Question 3 has been done before merging the dataset. Please read above code for your reference of Q2 and Q3.**"
   ]
  },
  {
   "cell_type": "markdown",
   "id": "d04579ca",
   "metadata": {},
   "source": [
    "### **Of all the injury claims, some of them have gone unreported with the police. Create an alert flag (1,0) for all such claims.**"
   ]
  },
  {
   "cell_type": "code",
   "execution_count": 25,
   "id": "f91d52a7",
   "metadata": {},
   "outputs": [],
   "source": [
    "cust_claim_360['alert_flag'] = np.where(cust_claim_360['police_report'] == 'Yes', 1,\n",
    "                                        np.where(cust_claim_360['police_report'] == 'No', 0, 2)) #where 2 is for unreported"
   ]
  },
  {
   "cell_type": "code",
   "execution_count": 26,
   "id": "99c053f9",
   "metadata": {},
   "outputs": [
    {
     "data": {
      "text/html": [
       "<div>\n",
       "<style scoped>\n",
       "    .dataframe tbody tr th:only-of-type {\n",
       "        vertical-align: middle;\n",
       "    }\n",
       "\n",
       "    .dataframe tbody tr th {\n",
       "        vertical-align: top;\n",
       "    }\n",
       "\n",
       "    .dataframe thead th {\n",
       "        text-align: right;\n",
       "    }\n",
       "</style>\n",
       "<table border=\"1\" class=\"dataframe\">\n",
       "  <thead>\n",
       "    <tr style=\"text-align: right;\">\n",
       "      <th></th>\n",
       "      <th>CUST_ID</th>\n",
       "      <th>gender</th>\n",
       "      <th>DateOfBirth</th>\n",
       "      <th>State</th>\n",
       "      <th>Contact</th>\n",
       "      <th>Segment</th>\n",
       "      <th>claim_id</th>\n",
       "      <th>incident_cause</th>\n",
       "      <th>claim_date</th>\n",
       "      <th>claim_area</th>\n",
       "      <th>police_report</th>\n",
       "      <th>claim_type</th>\n",
       "      <th>claim_amount</th>\n",
       "      <th>total_policy_claims</th>\n",
       "      <th>fraudulent</th>\n",
       "      <th>alert_flag</th>\n",
       "    </tr>\n",
       "  </thead>\n",
       "  <tbody>\n",
       "    <tr>\n",
       "      <th>0</th>\n",
       "      <td>21868593</td>\n",
       "      <td>Female</td>\n",
       "      <td>1979-01-12</td>\n",
       "      <td>VT</td>\n",
       "      <td>789-916-8172</td>\n",
       "      <td>Platinum</td>\n",
       "      <td>54004764.0</td>\n",
       "      <td>Driver error</td>\n",
       "      <td>2017-11-27</td>\n",
       "      <td>Auto</td>\n",
       "      <td>No</td>\n",
       "      <td>Material only</td>\n",
       "      <td>2980.0</td>\n",
       "      <td>1.0</td>\n",
       "      <td>No</td>\n",
       "      <td>0</td>\n",
       "    </tr>\n",
       "    <tr>\n",
       "      <th>1</th>\n",
       "      <td>75740424</td>\n",
       "      <td>Female</td>\n",
       "      <td>1970-01-13</td>\n",
       "      <td>ME</td>\n",
       "      <td>265-543-1264</td>\n",
       "      <td>Silver</td>\n",
       "      <td>33985796.0</td>\n",
       "      <td>Crime</td>\n",
       "      <td>2018-10-03</td>\n",
       "      <td>Home</td>\n",
       "      <td>Unknown</td>\n",
       "      <td>Material only</td>\n",
       "      <td>2980.0</td>\n",
       "      <td>3.0</td>\n",
       "      <td>No</td>\n",
       "      <td>2</td>\n",
       "    </tr>\n",
       "    <tr>\n",
       "      <th>2</th>\n",
       "      <td>30308357</td>\n",
       "      <td>Female</td>\n",
       "      <td>1984-03-11</td>\n",
       "      <td>TN</td>\n",
       "      <td>798-631-4758</td>\n",
       "      <td>Silver</td>\n",
       "      <td>53522022.0</td>\n",
       "      <td>Other driver error</td>\n",
       "      <td>2018-02-02</td>\n",
       "      <td>Auto</td>\n",
       "      <td>No</td>\n",
       "      <td>Material only</td>\n",
       "      <td>3369.5</td>\n",
       "      <td>1.0</td>\n",
       "      <td>Yes</td>\n",
       "      <td>0</td>\n",
       "    </tr>\n",
       "    <tr>\n",
       "      <th>3</th>\n",
       "      <td>30308357</td>\n",
       "      <td>Female</td>\n",
       "      <td>1984-03-11</td>\n",
       "      <td>TN</td>\n",
       "      <td>798-631-4758</td>\n",
       "      <td>Silver</td>\n",
       "      <td>63017412.0</td>\n",
       "      <td>Driver error</td>\n",
       "      <td>2018-04-04</td>\n",
       "      <td>Auto</td>\n",
       "      <td>No</td>\n",
       "      <td>Material only</td>\n",
       "      <td>1950.0</td>\n",
       "      <td>6.0</td>\n",
       "      <td>No</td>\n",
       "      <td>0</td>\n",
       "    </tr>\n",
       "    <tr>\n",
       "      <th>4</th>\n",
       "      <td>47830476</td>\n",
       "      <td>Female</td>\n",
       "      <td>1986-05-01</td>\n",
       "      <td>MA</td>\n",
       "      <td>413-187-7945</td>\n",
       "      <td>Silver</td>\n",
       "      <td>13015401.0</td>\n",
       "      <td>Natural causes</td>\n",
       "      <td>2018-06-17</td>\n",
       "      <td>Auto</td>\n",
       "      <td>No</td>\n",
       "      <td>Material only</td>\n",
       "      <td>1680.0</td>\n",
       "      <td>1.0</td>\n",
       "      <td>No</td>\n",
       "      <td>0</td>\n",
       "    </tr>\n",
       "    <tr>\n",
       "      <th>...</th>\n",
       "      <td>...</td>\n",
       "      <td>...</td>\n",
       "      <td>...</td>\n",
       "      <td>...</td>\n",
       "      <td>...</td>\n",
       "      <td>...</td>\n",
       "      <td>...</td>\n",
       "      <td>...</td>\n",
       "      <td>...</td>\n",
       "      <td>...</td>\n",
       "      <td>...</td>\n",
       "      <td>...</td>\n",
       "      <td>...</td>\n",
       "      <td>...</td>\n",
       "      <td>...</td>\n",
       "      <td>...</td>\n",
       "    </tr>\n",
       "    <tr>\n",
       "      <th>1087</th>\n",
       "      <td>79539873</td>\n",
       "      <td>Female</td>\n",
       "      <td>1981-03-15</td>\n",
       "      <td>ND</td>\n",
       "      <td>459-425-4319</td>\n",
       "      <td>Platinum</td>\n",
       "      <td>62020796.0</td>\n",
       "      <td>Other driver error</td>\n",
       "      <td>2018-09-06</td>\n",
       "      <td>Auto</td>\n",
       "      <td>Yes</td>\n",
       "      <td>Material only</td>\n",
       "      <td>1770.0</td>\n",
       "      <td>1.0</td>\n",
       "      <td>No</td>\n",
       "      <td>1</td>\n",
       "    </tr>\n",
       "    <tr>\n",
       "      <th>1088</th>\n",
       "      <td>42364152</td>\n",
       "      <td>Female</td>\n",
       "      <td>1996-07-07</td>\n",
       "      <td>ID</td>\n",
       "      <td>529-462-1635</td>\n",
       "      <td>Silver</td>\n",
       "      <td>63269067.0</td>\n",
       "      <td>Other causes</td>\n",
       "      <td>2017-05-09</td>\n",
       "      <td>Home</td>\n",
       "      <td>No</td>\n",
       "      <td>Material only</td>\n",
       "      <td>2800.0</td>\n",
       "      <td>1.0</td>\n",
       "      <td>No</td>\n",
       "      <td>0</td>\n",
       "    </tr>\n",
       "    <tr>\n",
       "      <th>1089</th>\n",
       "      <td>19888166</td>\n",
       "      <td>Male</td>\n",
       "      <td>1990-04-11</td>\n",
       "      <td>WI</td>\n",
       "      <td>712-651-9613</td>\n",
       "      <td>Gold</td>\n",
       "      <td>22690595.0</td>\n",
       "      <td>Other driver error</td>\n",
       "      <td>2017-05-15</td>\n",
       "      <td>Auto</td>\n",
       "      <td>Yes</td>\n",
       "      <td>Injury only</td>\n",
       "      <td>33080.0</td>\n",
       "      <td>2.0</td>\n",
       "      <td>No</td>\n",
       "      <td>1</td>\n",
       "    </tr>\n",
       "    <tr>\n",
       "      <th>1090</th>\n",
       "      <td>11256802</td>\n",
       "      <td>Female</td>\n",
       "      <td>2064-10-22</td>\n",
       "      <td>LA</td>\n",
       "      <td>469-345-5617</td>\n",
       "      <td>Silver</td>\n",
       "      <td>12376894.0</td>\n",
       "      <td>Other driver error</td>\n",
       "      <td>2017-04-18</td>\n",
       "      <td>Auto</td>\n",
       "      <td>No</td>\n",
       "      <td>Material only</td>\n",
       "      <td>2840.0</td>\n",
       "      <td>4.0</td>\n",
       "      <td>No</td>\n",
       "      <td>0</td>\n",
       "    </tr>\n",
       "    <tr>\n",
       "      <th>1091</th>\n",
       "      <td>61575264</td>\n",
       "      <td>Male</td>\n",
       "      <td>1995-07-12</td>\n",
       "      <td>WY</td>\n",
       "      <td>182-385-1392</td>\n",
       "      <td>Gold</td>\n",
       "      <td>63226031.0</td>\n",
       "      <td>Natural causes</td>\n",
       "      <td>2017-03-16</td>\n",
       "      <td>Auto</td>\n",
       "      <td>No</td>\n",
       "      <td>Material only</td>\n",
       "      <td>1490.0</td>\n",
       "      <td>1.0</td>\n",
       "      <td>No</td>\n",
       "      <td>0</td>\n",
       "    </tr>\n",
       "  </tbody>\n",
       "</table>\n",
       "<p>1092 rows × 16 columns</p>\n",
       "</div>"
      ],
      "text/plain": [
       "       CUST_ID  gender DateOfBirth State       Contact   Segment    claim_id  \\\n",
       "0     21868593  Female  1979-01-12    VT  789-916-8172  Platinum  54004764.0   \n",
       "1     75740424  Female  1970-01-13    ME  265-543-1264    Silver  33985796.0   \n",
       "2     30308357  Female  1984-03-11    TN  798-631-4758    Silver  53522022.0   \n",
       "3     30308357  Female  1984-03-11    TN  798-631-4758    Silver  63017412.0   \n",
       "4     47830476  Female  1986-05-01    MA  413-187-7945    Silver  13015401.0   \n",
       "...        ...     ...         ...   ...           ...       ...         ...   \n",
       "1087  79539873  Female  1981-03-15    ND  459-425-4319  Platinum  62020796.0   \n",
       "1088  42364152  Female  1996-07-07    ID  529-462-1635    Silver  63269067.0   \n",
       "1089  19888166    Male  1990-04-11    WI  712-651-9613      Gold  22690595.0   \n",
       "1090  11256802  Female  2064-10-22    LA  469-345-5617    Silver  12376894.0   \n",
       "1091  61575264    Male  1995-07-12    WY  182-385-1392      Gold  63226031.0   \n",
       "\n",
       "          incident_cause claim_date claim_area police_report     claim_type  \\\n",
       "0           Driver error 2017-11-27       Auto            No  Material only   \n",
       "1                  Crime 2018-10-03       Home       Unknown  Material only   \n",
       "2     Other driver error 2018-02-02       Auto            No  Material only   \n",
       "3           Driver error 2018-04-04       Auto            No  Material only   \n",
       "4         Natural causes 2018-06-17       Auto            No  Material only   \n",
       "...                  ...        ...        ...           ...            ...   \n",
       "1087  Other driver error 2018-09-06       Auto           Yes  Material only   \n",
       "1088        Other causes 2017-05-09       Home            No  Material only   \n",
       "1089  Other driver error 2017-05-15       Auto           Yes    Injury only   \n",
       "1090  Other driver error 2017-04-18       Auto            No  Material only   \n",
       "1091      Natural causes 2017-03-16       Auto            No  Material only   \n",
       "\n",
       "      claim_amount  total_policy_claims fraudulent  alert_flag  \n",
       "0           2980.0                  1.0         No           0  \n",
       "1           2980.0                  3.0         No           2  \n",
       "2           3369.5                  1.0        Yes           0  \n",
       "3           1950.0                  6.0         No           0  \n",
       "4           1680.0                  1.0         No           0  \n",
       "...            ...                  ...        ...         ...  \n",
       "1087        1770.0                  1.0         No           1  \n",
       "1088        2800.0                  1.0         No           0  \n",
       "1089       33080.0                  2.0         No           1  \n",
       "1090        2840.0                  4.0         No           0  \n",
       "1091        1490.0                  1.0         No           0  \n",
       "\n",
       "[1092 rows x 16 columns]"
      ]
     },
     "execution_count": 26,
     "metadata": {},
     "output_type": "execute_result"
    }
   ],
   "source": [
    "cust_claim_360"
   ]
  },
  {
   "cell_type": "code",
   "execution_count": 27,
   "id": "8d900b01",
   "metadata": {},
   "outputs": [],
   "source": [
    "cust_claim_360 = cust_claim_360.sort_values(['CUST_ID', 'claim_date'], ascending=[True, False])#sort data based on cust_id and claim_date\n",
    "\n",
    "\n",
    "cust_claim_360 = cust_claim_360.drop_duplicates('CUST_ID', keep='first') # Drop duplicates based on 'CUST_ID' while keeping the most recent observation"
   ]
  },
  {
   "cell_type": "code",
   "execution_count": 28,
   "id": "529ca430",
   "metadata": {},
   "outputs": [
    {
     "data": {
      "text/plain": [
       "(1085, 16)"
      ]
     },
     "execution_count": 28,
     "metadata": {},
     "output_type": "execute_result"
    }
   ],
   "source": [
    "cust_claim_360.shape"
   ]
  },
  {
   "cell_type": "markdown",
   "id": "12cb0622",
   "metadata": {},
   "source": [
    "### **Check for missing values and impute the missing values with an appropriate value.** \n",
    "### **(mean for continuous and mode for categorical)**"
   ]
  },
  {
   "cell_type": "code",
   "execution_count": 29,
   "id": "85fe6bb5",
   "metadata": {},
   "outputs": [
    {
     "data": {
      "text/plain": [
       "CUST_ID                 0\n",
       "gender                  0\n",
       "DateOfBirth             0\n",
       "State                   0\n",
       "Contact                 0\n",
       "Segment                 0\n",
       "claim_id                7\n",
       "incident_cause          7\n",
       "claim_date              7\n",
       "claim_area              7\n",
       "police_report           7\n",
       "claim_type              7\n",
       "claim_amount           72\n",
       "total_policy_claims    17\n",
       "fraudulent              7\n",
       "alert_flag              0\n",
       "dtype: int64"
      ]
     },
     "execution_count": 29,
     "metadata": {},
     "output_type": "execute_result"
    }
   ],
   "source": [
    "cust_claim_360.isnull().sum()"
   ]
  },
  {
   "cell_type": "code",
   "execution_count": 30,
   "id": "0cad4d85",
   "metadata": {},
   "outputs": [],
   "source": [
    "categorical_vars = ['gender','State', 'Contact', 'Segment', 'incident_cause','claim_area','police_report', 'claim_type','fraudulent']"
   ]
  },
  {
   "cell_type": "code",
   "execution_count": 31,
   "id": "dccfe609",
   "metadata": {},
   "outputs": [
    {
     "data": {
      "text/plain": [
       "['gender',\n",
       " 'State',\n",
       " 'Contact',\n",
       " 'Segment',\n",
       " 'incident_cause',\n",
       " 'claim_area',\n",
       " 'police_report',\n",
       " 'claim_type',\n",
       " 'fraudulent']"
      ]
     },
     "execution_count": 31,
     "metadata": {},
     "output_type": "execute_result"
    }
   ],
   "source": [
    "categorical_vars"
   ]
  },
  {
   "cell_type": "code",
   "execution_count": 32,
   "id": "9fdf53d4",
   "metadata": {},
   "outputs": [],
   "source": [
    "def fill_categorical_nulls(df, categorical_vars): #making UDF\n",
    "    for var in categorical_vars:\n",
    "        mode_val = df[var].dropna().mode().iloc[0]\n",
    "        df[var] = df[var].fillna(mode_val)\n",
    "        \n",
    "fill_categorical_nulls(cust_claim_360, categorical_vars)  #applying UDF\n"
   ]
  },
  {
   "cell_type": "code",
   "execution_count": 33,
   "id": "673f8bb8",
   "metadata": {},
   "outputs": [],
   "source": [
    "continuous_vars = ['claim_id', 'claim_amount', 'total_policy_claims']"
   ]
  },
  {
   "cell_type": "code",
   "execution_count": null,
   "id": "77ed5444",
   "metadata": {},
   "outputs": [],
   "source": []
  },
  {
   "cell_type": "code",
   "execution_count": 34,
   "id": "fab857ab",
   "metadata": {},
   "outputs": [],
   "source": [
    "def fill_continuous_nulls(df, continuous_vars):\n",
    "    for var in continuous_vars:\n",
    "        mean_val = df[var].dropna().mean()\n",
    "        df[var] = df[var].fillna(mean_val)\n",
    "        \n",
    "fill_continuous_nulls(cust_claim_360, continuous_vars)\n"
   ]
  },
  {
   "cell_type": "code",
   "execution_count": 40,
   "id": "5ccf7fcd",
   "metadata": {},
   "outputs": [],
   "source": [
    "mode_value = cust_claim_360.claim_date.mode()[0]\n",
    "cust_claim_360['claim_date'] = cust_claim_360.claim_date.fillna(mode_value)"
   ]
  },
  {
   "cell_type": "markdown",
   "id": "bcebc423",
   "metadata": {},
   "source": [
    "### **7. Calculate the age of customers in years. Based on the age, categorize the customers according to the below criteria:**\n",
    "### **Children < 18**  \n",
    "### **Youth 18-30**\n",
    "### **Adult 30-60**\n",
    "### **Senior > 60**"
   ]
  },
  {
   "cell_type": "code",
   "execution_count": 49,
   "id": "2eccbc08",
   "metadata": {},
   "outputs": [],
   "source": [
    "from datetime import datetime\n",
    "\n",
    "cust_claim_360['Age'] = (pd.to_datetime(datetime.today()) - pd.to_datetime(cust_claim_360['DateOfBirth'])) / pd.Timedelta(days=365.2425)"
   ]
  },
  {
   "cell_type": "code",
   "execution_count": 50,
   "id": "34c5863c",
   "metadata": {},
   "outputs": [
    {
     "data": {
      "text/html": [
       "<div>\n",
       "<style scoped>\n",
       "    .dataframe tbody tr th:only-of-type {\n",
       "        vertical-align: middle;\n",
       "    }\n",
       "\n",
       "    .dataframe tbody tr th {\n",
       "        vertical-align: top;\n",
       "    }\n",
       "\n",
       "    .dataframe thead th {\n",
       "        text-align: right;\n",
       "    }\n",
       "</style>\n",
       "<table border=\"1\" class=\"dataframe\">\n",
       "  <thead>\n",
       "    <tr style=\"text-align: right;\">\n",
       "      <th></th>\n",
       "      <th>CUST_ID</th>\n",
       "      <th>gender</th>\n",
       "      <th>DateOfBirth</th>\n",
       "      <th>State</th>\n",
       "      <th>Contact</th>\n",
       "      <th>Segment</th>\n",
       "      <th>claim_id</th>\n",
       "      <th>incident_cause</th>\n",
       "      <th>claim_date</th>\n",
       "      <th>claim_area</th>\n",
       "      <th>police_report</th>\n",
       "      <th>claim_type</th>\n",
       "      <th>claim_amount</th>\n",
       "      <th>total_policy_claims</th>\n",
       "      <th>fraudulent</th>\n",
       "      <th>alert_flag</th>\n",
       "      <th>Age</th>\n",
       "    </tr>\n",
       "  </thead>\n",
       "  <tbody>\n",
       "    <tr>\n",
       "      <th>188</th>\n",
       "      <td>154557</td>\n",
       "      <td>Female</td>\n",
       "      <td>1978-05-23</td>\n",
       "      <td>DE</td>\n",
       "      <td>962-879-1238</td>\n",
       "      <td>Platinum</td>\n",
       "      <td>69348631.0</td>\n",
       "      <td>Driver error</td>\n",
       "      <td>2018-04-10</td>\n",
       "      <td>Auto</td>\n",
       "      <td>No</td>\n",
       "      <td>Injury only</td>\n",
       "      <td>12501.726555</td>\n",
       "      <td>1.0</td>\n",
       "      <td>Yes</td>\n",
       "      <td>0</td>\n",
       "      <td>45.982105</td>\n",
       "    </tr>\n",
       "    <tr>\n",
       "      <th>843</th>\n",
       "      <td>263204</td>\n",
       "      <td>Male</td>\n",
       "      <td>1972-12-20</td>\n",
       "      <td>TX</td>\n",
       "      <td>173-892-6314</td>\n",
       "      <td>Silver</td>\n",
       "      <td>40953049.0</td>\n",
       "      <td>Other causes</td>\n",
       "      <td>2018-04-04</td>\n",
       "      <td>Auto</td>\n",
       "      <td>No</td>\n",
       "      <td>Material and injury</td>\n",
       "      <td>39192.000000</td>\n",
       "      <td>1.0</td>\n",
       "      <td>Yes</td>\n",
       "      <td>0</td>\n",
       "      <td>51.403161</td>\n",
       "    </tr>\n",
       "  </tbody>\n",
       "</table>\n",
       "</div>"
      ],
      "text/plain": [
       "     CUST_ID  gender DateOfBirth State       Contact   Segment    claim_id  \\\n",
       "188   154557  Female  1978-05-23    DE  962-879-1238  Platinum  69348631.0   \n",
       "843   263204    Male  1972-12-20    TX  173-892-6314    Silver  40953049.0   \n",
       "\n",
       "    incident_cause claim_date claim_area police_report           claim_type  \\\n",
       "188   Driver error 2018-04-10       Auto            No          Injury only   \n",
       "843   Other causes 2018-04-04       Auto            No  Material and injury   \n",
       "\n",
       "     claim_amount  total_policy_claims fraudulent  alert_flag        Age  \n",
       "188  12501.726555                  1.0        Yes           0  45.982105  \n",
       "843  39192.000000                  1.0        Yes           0  51.403161  "
      ]
     },
     "execution_count": 50,
     "metadata": {},
     "output_type": "execute_result"
    }
   ],
   "source": [
    "cust_claim_360.head(2)"
   ]
  },
  {
   "cell_type": "code",
   "execution_count": 51,
   "id": "6d1b153a",
   "metadata": {},
   "outputs": [],
   "source": [
    "cust_claim_360['Cust_cat'] = np.select([cust_claim_360.Age < 18,\n",
    "     (cust_claim_360.Age >= 18) & (cust_claim_360.Age < 30),\n",
    "     (cust_claim_360.Age >= 30) & (cust_claim_360.Age < 60)],\n",
    "    ['Children', 'Youth', 'Adult'],\n",
    "    default='Senior'\n",
    ")"
   ]
  },
  {
   "cell_type": "code",
   "execution_count": 52,
   "id": "706abece",
   "metadata": {},
   "outputs": [
    {
     "data": {
      "text/html": [
       "<div>\n",
       "<style scoped>\n",
       "    .dataframe tbody tr th:only-of-type {\n",
       "        vertical-align: middle;\n",
       "    }\n",
       "\n",
       "    .dataframe tbody tr th {\n",
       "        vertical-align: top;\n",
       "    }\n",
       "\n",
       "    .dataframe thead th {\n",
       "        text-align: right;\n",
       "    }\n",
       "</style>\n",
       "<table border=\"1\" class=\"dataframe\">\n",
       "  <thead>\n",
       "    <tr style=\"text-align: right;\">\n",
       "      <th></th>\n",
       "      <th>CUST_ID</th>\n",
       "      <th>gender</th>\n",
       "      <th>DateOfBirth</th>\n",
       "      <th>State</th>\n",
       "      <th>Contact</th>\n",
       "      <th>Segment</th>\n",
       "      <th>claim_id</th>\n",
       "      <th>incident_cause</th>\n",
       "      <th>claim_date</th>\n",
       "      <th>claim_area</th>\n",
       "      <th>police_report</th>\n",
       "      <th>claim_type</th>\n",
       "      <th>claim_amount</th>\n",
       "      <th>total_policy_claims</th>\n",
       "      <th>fraudulent</th>\n",
       "      <th>alert_flag</th>\n",
       "      <th>Age</th>\n",
       "      <th>Cust_cat</th>\n",
       "    </tr>\n",
       "  </thead>\n",
       "  <tbody>\n",
       "    <tr>\n",
       "      <th>188</th>\n",
       "      <td>154557</td>\n",
       "      <td>Female</td>\n",
       "      <td>1978-05-23</td>\n",
       "      <td>DE</td>\n",
       "      <td>962-879-1238</td>\n",
       "      <td>Platinum</td>\n",
       "      <td>69348631.0</td>\n",
       "      <td>Driver error</td>\n",
       "      <td>2018-04-10</td>\n",
       "      <td>Auto</td>\n",
       "      <td>No</td>\n",
       "      <td>Injury only</td>\n",
       "      <td>12501.726555</td>\n",
       "      <td>1.0</td>\n",
       "      <td>Yes</td>\n",
       "      <td>0</td>\n",
       "      <td>45.982105</td>\n",
       "      <td>Adult</td>\n",
       "    </tr>\n",
       "    <tr>\n",
       "      <th>843</th>\n",
       "      <td>263204</td>\n",
       "      <td>Male</td>\n",
       "      <td>1972-12-20</td>\n",
       "      <td>TX</td>\n",
       "      <td>173-892-6314</td>\n",
       "      <td>Silver</td>\n",
       "      <td>40953049.0</td>\n",
       "      <td>Other causes</td>\n",
       "      <td>2018-04-04</td>\n",
       "      <td>Auto</td>\n",
       "      <td>No</td>\n",
       "      <td>Material and injury</td>\n",
       "      <td>39192.000000</td>\n",
       "      <td>1.0</td>\n",
       "      <td>Yes</td>\n",
       "      <td>0</td>\n",
       "      <td>51.403161</td>\n",
       "      <td>Adult</td>\n",
       "    </tr>\n",
       "  </tbody>\n",
       "</table>\n",
       "</div>"
      ],
      "text/plain": [
       "     CUST_ID  gender DateOfBirth State       Contact   Segment    claim_id  \\\n",
       "188   154557  Female  1978-05-23    DE  962-879-1238  Platinum  69348631.0   \n",
       "843   263204    Male  1972-12-20    TX  173-892-6314    Silver  40953049.0   \n",
       "\n",
       "    incident_cause claim_date claim_area police_report           claim_type  \\\n",
       "188   Driver error 2018-04-10       Auto            No          Injury only   \n",
       "843   Other causes 2018-04-04       Auto            No  Material and injury   \n",
       "\n",
       "     claim_amount  total_policy_claims fraudulent  alert_flag        Age  \\\n",
       "188  12501.726555                  1.0        Yes           0  45.982105   \n",
       "843  39192.000000                  1.0        Yes           0  51.403161   \n",
       "\n",
       "    Cust_cat  \n",
       "188    Adult  \n",
       "843    Adult  "
      ]
     },
     "execution_count": 52,
     "metadata": {},
     "output_type": "execute_result"
    }
   ],
   "source": [
    "cust_claim_360.head(2)"
   ]
  },
  {
   "cell_type": "markdown",
   "id": "bec9ea80",
   "metadata": {},
   "source": [
    "### **What is the average amount claimed by the customers from various segments?**"
   ]
  },
  {
   "cell_type": "code",
   "execution_count": 57,
   "id": "d8e59b86",
   "metadata": {},
   "outputs": [
    {
     "data": {
      "text/plain": [
       "Segment\n",
       "Gold        4778516.0\n",
       "Platinum    4503672.5\n",
       "Silver      4282184.5\n",
       "Name: claim_amount, dtype: float32"
      ]
     },
     "execution_count": 57,
     "metadata": {},
     "output_type": "execute_result"
    }
   ],
   "source": [
    "cust_claim_360.groupby('Segment')['claim_amount'].sum().astype(np.float32)"
   ]
  },
  {
   "cell_type": "markdown",
   "id": "483b8f59",
   "metadata": {},
   "source": [
    "### **What is the total claim amount based on incident cause for all the claims that have been done** \n",
    "### **at least 20 days prior to 1st of October, 2018.**"
   ]
  },
  {
   "cell_type": "code",
   "execution_count": 62,
   "id": "430bfc78",
   "metadata": {},
   "outputs": [
    {
     "data": {
      "text/plain": [
       "incident_cause\n",
       "Crime                  721938.625\n",
       "Driver error          3315850.750\n",
       "Natural causes        1312987.000\n",
       "Other causes          3810664.000\n",
       "Other driver error    3277536.500\n",
       "Name: claim_amount, dtype: float32"
      ]
     },
     "execution_count": 62,
     "metadata": {},
     "output_type": "execute_result"
    }
   ],
   "source": [
    "cust_claim_360[\n",
    "    cust_claim_360.claim_date < (\n",
    "        datetime(2018, 10, 1) - pd.Timedelta(days=20)\n",
    "    )\n",
    "].groupby('incident_cause')[\n",
    "    'claim_amount'\n",
    "].sum().astype(np.float32)"
   ]
  },
  {
   "cell_type": "markdown",
   "id": "d288bd6a",
   "metadata": {},
   "source": [
    "### **How many adults from TX, DE and AK claimed insurance for driver related issues and causes?**"
   ]
  },
  {
   "cell_type": "code",
   "execution_count": 67,
   "id": "85910bb9",
   "metadata": {},
   "outputs": [
    {
     "data": {
      "text/plain": [
       "0"
      ]
     },
     "execution_count": 67,
     "metadata": {},
     "output_type": "execute_result"
    }
   ],
   "source": [
    "cust_claim_360.loc[(cust_claim_360['Cust_cat'] == 'Adult') & \n",
    "                   (cust_claim_360['Segment'].isin(['TX', 'DE', 'AK'])) &\n",
    "                   (cust_claim_360['incident_cause'].isin(['Driver error', 'Other driver error']))\n",
    "                  ].shape[0]"
   ]
  },
  {
   "cell_type": "markdown",
   "id": "774023ec",
   "metadata": {},
   "source": [
    "### 11. Draw a pie chart between the aggregated value of claim amount based on gender and segment. Represent the claim amount as a percentage on the pie chart."
   ]
  },
  {
   "cell_type": "code",
   "execution_count": 82,
   "id": "027c7c76",
   "metadata": {},
   "outputs": [],
   "source": [
    "summ1 = cust_claim_360.groupby(['gender','Segment'])['claim_amount'].sum().reset_index()\n"
   ]
  },
  {
   "cell_type": "code",
   "execution_count": 83,
   "id": "5dc9f09d",
   "metadata": {},
   "outputs": [],
   "source": [
    "summ2 = summ1.pivot(columns='gender', index = 'Segment',values = 'claim_amount')"
   ]
  },
  {
   "cell_type": "code",
   "execution_count": 85,
   "id": "9f2f554f",
   "metadata": {},
   "outputs": [
    {
     "data": {
      "image/png": "[encoded data removed]",
      "text/plain": [
       "<Figure size 2000x1000 with 3 Axes>"
      ]
     },
     "metadata": {},
     "output_type": "display_data"
    }
   ],
   "source": [
    "summ2.T.plot(kind=\"pie\", subplots= True, legend= True,figsize=(20,10), autopct='%1.1f%%')\n",
    "plt.show()"
   ]
  },
  {
   "cell_type": "markdown",
   "id": "2301162b",
   "metadata": {},
   "source": [
    "### **12. Among males and females, which gender had claimed the most for any type of driver related issues?** \n",
    "### **E.g. This metric can be compared using a bar chart**"
   ]
  },
  {
   "cell_type": "code",
   "execution_count": 94,
   "id": "44bde139",
   "metadata": {},
   "outputs": [],
   "source": [
    "gender_count = cust_claim_360.loc[cust_claim_360['incident_cause'].isin(['Driver error', 'Other driver error'])].groupby('gender')['claim_amount'].count().reset_index()"
   ]
  },
  {
   "cell_type": "code",
   "execution_count": 96,
   "id": "c52a2395",
   "metadata": {},
   "outputs": [],
   "source": [
    "gender_count.rename({'claim_amount': 'Count_of_gender'}, axis = 1, inplace= True)"
   ]
  },
  {
   "cell_type": "code",
   "execution_count": 102,
   "id": "09080fd1",
   "metadata": {},
   "outputs": [
    {
     "data": {
      "text/plain": [
       "<Axes: xlabel='Gender', ylabel='Count'>"
      ]
     },
     "execution_count": 102,
     "metadata": {},
     "output_type": "execute_result"
    },
    {
     "data": {
      "image/png": "[encoded data removed]",
      "text/plain": [
       "<Figure size 1000x800 with 1 Axes>"
      ]
     },
     "metadata": {},
     "output_type": "display_data"
    }
   ],
   "source": [
    "gender_count.plot(kind='bar', figsize = (10,8), xlabel = 'Gender', ylabel = 'Count')\n"
   ]
  },
  {
   "cell_type": "markdown",
   "id": "cef0bf3a",
   "metadata": {},
   "source": [
    "### **Male gender had claimed the most for any type of driver related issues.**"
   ]
  },
  {
   "cell_type": "markdown",
   "id": "4eccef4f",
   "metadata": {},
   "source": [
    "### **Which age group had the maximum fraudulent policy claims? Visualize it on a bar chart.**"
   ]
  },
  {
   "cell_type": "code",
   "execution_count": 114,
   "id": "336f6408",
   "metadata": {},
   "outputs": [],
   "source": [
    "summ3 =cust_claim_360.groupby('Cust_cat')['fraudulent'].count()"
   ]
  },
  {
   "cell_type": "code",
   "execution_count": 115,
   "id": "14818c9c",
   "metadata": {},
   "outputs": [
    {
     "data": {
      "text/plain": [
       "Cust_cat\n",
       "Adult       669\n",
       "Children    246\n",
       "Youth       170\n",
       "Name: fraudulent, dtype: int64"
      ]
     },
     "execution_count": 115,
     "metadata": {},
     "output_type": "execute_result"
    }
   ],
   "source": [
    "summ3"
   ]
  },
  {
   "cell_type": "code",
   "execution_count": 116,
   "id": "39deff40",
   "metadata": {},
   "outputs": [
    {
     "data": {
      "text/plain": [
       "<Axes: xlabel='Cust_age_group', ylabel='Count_of Fraudulant'>"
      ]
     },
     "execution_count": 116,
     "metadata": {},
     "output_type": "execute_result"
    },
    {
     "data": {
      "image/png": "[encoded data removed]",
      "text/plain": [
       "<Figure size 1000x800 with 1 Axes>"
      ]
     },
     "metadata": {},
     "output_type": "display_data"
    }
   ],
   "source": [
    "summ3.plot(kind='bar', figsize = (10,8), xlabel = 'Cust_age_group', ylabel = 'Count_of Fraudulant')"
   ]
  },
  {
   "cell_type": "markdown",
   "id": "54de6483",
   "metadata": {},
   "source": [
    "### **Adult age group had the maximum fraudulent policy claims.**"
   ]
  },
  {
   "cell_type": "markdown",
   "id": "adf0584a",
   "metadata": {},
   "source": [
    "### **Visualize the monthly trend of the total amount that has been claimed by the customers. Ensure that on the ### **“month” axis, the month is in a chronological order not alphabetical order.**  "
   ]
  },
  {
   "cell_type": "code",
   "execution_count": 117,
   "id": "34db2f1d",
   "metadata": {},
   "outputs": [],
   "source": [
    "cust_claim_360['Month'] = cust_claim_360['claim_date'].dt.month"
   ]
  },
  {
   "cell_type": "code",
   "execution_count": 133,
   "id": "056a75b9",
   "metadata": {},
   "outputs": [],
   "source": [
    "summ4 = cust_claim_360.groupby('Month')['claim_amount'].sum()"
   ]
  },
  {
   "cell_type": "code",
   "execution_count": 134,
   "id": "40f45107",
   "metadata": {},
   "outputs": [
    {
     "data": {
      "text/plain": [
       "Month\n",
       "1     1.327171e+06\n",
       "2     1.164542e+06\n",
       "3     1.320250e+06\n",
       "4     1.380026e+06\n",
       "5     1.114461e+06\n",
       "6     1.279030e+06\n",
       "7     1.379316e+06\n",
       "8     9.112972e+05\n",
       "9     9.832003e+05\n",
       "10    1.409639e+06\n",
       "11    6.011875e+05\n",
       "12    6.942527e+05\n",
       "Name: claim_amount, dtype: float64"
      ]
     },
     "execution_count": 134,
     "metadata": {},
     "output_type": "execute_result"
    }
   ],
   "source": [
    "summ4"
   ]
  },
  {
   "cell_type": "code",
   "execution_count": 135,
   "id": "47dce4d9",
   "metadata": {},
   "outputs": [
    {
     "data": {
      "text/plain": [
       "<matplotlib.legend.Legend at 0x201f0b0ebd0>"
      ]
     },
     "execution_count": 135,
     "metadata": {},
     "output_type": "execute_result"
    },
    {
     "data": {
      "image/png": "[encoded data removed]",
      "text/plain": [
       "<Figure size 640x480 with 1 Axes>"
      ]
     },
     "metadata": {},
     "output_type": "display_data"
    }
   ],
   "source": [
    "summ4.plot(kind = 'bar', xlabel = 'Month_Num', ylabel = 'Total_Claim_Amount')\n",
    "plt.legend('Total Claim Amount')"
   ]
  },
  {
   "cell_type": "markdown",
   "id": "cc663156",
   "metadata": {},
   "source": [
    "### 15. What is the average claim amount for gender and age categories and suitably represent the above using a facetted bar chart, one facet that represents fraudulent claims and the other for non-fraudulent claims."
   ]
  },
  {
   "cell_type": "code",
   "execution_count": 141,
   "id": "3efe9f4b",
   "metadata": {},
   "outputs": [
    {
     "data": {
      "text/plain": [
       "Index(['CUST_ID', 'gender', 'DateOfBirth', 'State', 'Contact', 'Segment',\n",
       "       'claim_id', 'incident_cause', 'claim_date', 'claim_area',\n",
       "       'police_report', 'claim_type', 'claim_amount', 'total_policy_claims',\n",
       "       'fraudulent', 'alert_flag', 'Age', 'Cust_cat', 'Month'],\n",
       "      dtype='object')"
      ]
     },
     "execution_count": 141,
     "metadata": {},
     "output_type": "execute_result"
    }
   ],
   "source": [
    "cust_claim_360.columns"
   ]
  },
  {
   "cell_type": "code",
   "execution_count": 142,
   "id": "2c207010",
   "metadata": {},
   "outputs": [],
   "source": [
    "df =pd.pivot_table(data=cust_claim_360,index=[\"Cust_cat\",\"gender\"],columns=['fraudulent'],\n",
    "                                       values='claim_amount',aggfunc='mean')"
   ]
  },
  {
   "cell_type": "code",
   "execution_count": 143,
   "id": "1c53a825",
   "metadata": {},
   "outputs": [
    {
     "data": {
      "text/html": [
       "<div>\n",
       "<style scoped>\n",
       "    .dataframe tbody tr th:only-of-type {\n",
       "        vertical-align: middle;\n",
       "    }\n",
       "\n",
       "    .dataframe tbody tr th {\n",
       "        vertical-align: top;\n",
       "    }\n",
       "\n",
       "    .dataframe thead th {\n",
       "        text-align: right;\n",
       "    }\n",
       "</style>\n",
       "<table border=\"1\" class=\"dataframe\">\n",
       "  <thead>\n",
       "    <tr style=\"text-align: right;\">\n",
       "      <th></th>\n",
       "      <th>fraudulent</th>\n",
       "      <th>No</th>\n",
       "      <th>Yes</th>\n",
       "    </tr>\n",
       "    <tr>\n",
       "      <th>Cust_cat</th>\n",
       "      <th>gender</th>\n",
       "      <th></th>\n",
       "      <th></th>\n",
       "    </tr>\n",
       "  </thead>\n",
       "  <tbody>\n",
       "    <tr>\n",
       "      <th rowspan=\"2\" valign=\"top\">Adult</th>\n",
       "      <th>Female</th>\n",
       "      <td>12189.749062</td>\n",
       "      <td>13572.619087</td>\n",
       "    </tr>\n",
       "    <tr>\n",
       "      <th>Male</th>\n",
       "      <td>12449.840849</td>\n",
       "      <td>15186.621720</td>\n",
       "    </tr>\n",
       "    <tr>\n",
       "      <th rowspan=\"2\" valign=\"top\">Children</th>\n",
       "      <th>Female</th>\n",
       "      <td>12309.969276</td>\n",
       "      <td>6440.328571</td>\n",
       "    </tr>\n",
       "    <tr>\n",
       "      <th>Male</th>\n",
       "      <td>11601.393605</td>\n",
       "      <td>16923.860000</td>\n",
       "    </tr>\n",
       "    <tr>\n",
       "      <th rowspan=\"2\" valign=\"top\">Youth</th>\n",
       "      <th>Female</th>\n",
       "      <td>13304.366268</td>\n",
       "      <td>10144.590819</td>\n",
       "    </tr>\n",
       "    <tr>\n",
       "      <th>Male</th>\n",
       "      <td>12894.588324</td>\n",
       "      <td>9345.480468</td>\n",
       "    </tr>\n",
       "  </tbody>\n",
       "</table>\n",
       "</div>"
      ],
      "text/plain": [
       "fraudulent                 No           Yes\n",
       "Cust_cat gender                            \n",
       "Adult    Female  12189.749062  13572.619087\n",
       "         Male    12449.840849  15186.621720\n",
       "Children Female  12309.969276   6440.328571\n",
       "         Male    11601.393605  16923.860000\n",
       "Youth    Female  13304.366268  10144.590819\n",
       "         Male    12894.588324   9345.480468"
      ]
     },
     "execution_count": 143,
     "metadata": {},
     "output_type": "execute_result"
    }
   ],
   "source": [
    "df"
   ]
  },
  {
   "cell_type": "code",
   "execution_count": 144,
   "id": "7aa86946",
   "metadata": {},
   "outputs": [
    {
     "data": {
      "text/plain": [
       "array([<Axes: title={'center': 'No'}, xlabel='Cust_cat,gender'>,\n",
       "       <Axes: title={'center': 'Yes'}, xlabel='Cust_cat,gender'>],\n",
       "      dtype=object)"
      ]
     },
     "execution_count": 144,
     "metadata": {},
     "output_type": "execute_result"
    },
    {
     "data": {
      "image/png": "[encoded data removed]",
      "text/plain": [
       "<Figure size 640x480 with 2 Axes>"
      ]
     },
     "metadata": {},
     "output_type": "display_data"
    }
   ],
   "source": [
    "df.plot(kind='bar', subplots = True)"
   ]
  },
  {
   "cell_type": "markdown",
   "id": "ddd7a7b9",
   "metadata": {},
   "source": [
    "### 16. Is there any similarity in the amount claimed by males and females?"
   ]
  },
  {
   "cell_type": "code",
   "execution_count": 153,
   "id": "b91ddbdc",
   "metadata": {},
   "outputs": [],
   "source": [
    "import scipy.stats as stats"
   ]
  },
  {
   "cell_type": "code",
   "execution_count": 154,
   "id": "49a58a24",
   "metadata": {},
   "outputs": [],
   "source": [
    "male_df = cust_claim_360.loc[cust_claim_360.gender == 'Male', 'claim_amount']\n",
    "\n",
    "female_df = cust_claim_360.loc[cust_claim_360.gender == 'Female', 'claim_amount']"
   ]
  },
  {
   "cell_type": "markdown",
   "id": "e45099f8",
   "metadata": {},
   "source": [
    "### **Hypothesis Testing:**\n",
    "\n",
    "### **Null Hypothesis (H0): The average claimed amount by males equals the average claimed amount by females.**\n",
    "### **Alternative Hypothesis (H1): The average claimed amount by males differs from the average claimed amount by females.**\n",
    "### **Significance Level: Set at 0.05.**\n",
    "### **Test Type: A t-test will be conducted.**"
   ]
  },
  {
   "cell_type": "code",
   "execution_count": 155,
   "id": "dd1a9c7b",
   "metadata": {},
   "outputs": [
    {
     "data": {
      "text/plain": [
       "TtestResult(statistic=0.9624541122991915, pvalue=0.3360363827572097, df=1083.0)"
      ]
     },
     "execution_count": 155,
     "metadata": {},
     "output_type": "execute_result"
    }
   ],
   "source": [
    "\n",
    "stats.ttest_ind(male_df, female_df)"
   ]
  },
  {
   "cell_type": "markdown",
   "id": "f46e56a3",
   "metadata": {},
   "source": [
    "### **Conclusion:**\n",
    "### **Since the p-value exceeds 0.05, we do not have sufficient evidence to reject the null hypothesis.**\n",
    "### **This suggests that there is no significant difference in the claimed amounts between males and females.**"
   ]
  },
  {
   "cell_type": "code",
   "execution_count": 160,
   "id": "dd1d9d30",
   "metadata": {},
   "outputs": [],
   "source": [
    "cust_claim_360['Year'] = pd.DatetimeIndex(cust_claim_360.claim_date).year\n",
    "current_year = cust_claim_360.loc[cust_claim_360.Year == 2018][\"claim_amount\"] # as the data is available for 2017 and 2018"
   ]
  },
  {
   "cell_type": "markdown",
   "id": "b86bac47",
   "metadata": {},
   "source": [
    "### Hypothesis Testing:\n",
    "\n",
    "- **Null Hypothesis (H0):** The average claim amount in the current year equals $10,000.\n",
    "  \n",
    "- **Alternative Hypothesis (H1):** The average claim amount in the current year differs from $10,000.\n",
    "  \n",
    "- **Significance Level:** Set at 0.05.\n",
    "  \n",
    "- **Test Type:** A t-test will be conducted.\n"
   ]
  },
  {
   "cell_type": "code",
   "execution_count": 161,
   "id": "366bf67f",
   "metadata": {},
   "outputs": [
    {
     "data": {
      "text/plain": [
       "TtestResult(statistic=4.536327831966947, pvalue=7.204040324324159e-06, df=491)"
      ]
     },
     "execution_count": 161,
     "metadata": {},
     "output_type": "execute_result"
    }
   ],
   "source": [
    "stats.ttest_1samp(current_year, popmean=10000)"
   ]
  },
  {
   "cell_type": "markdown",
   "id": "2923714d",
   "metadata": {},
   "source": [
    "### Conclusion:\n",
    "\n",
    "- Since the p-value is below 0.05, we reject the null hypothesis.\n",
    "  \n",
    "- The average claim amount in the current year differs from $10,000.\n"
   ]
  },
  {
   "cell_type": "markdown",
   "id": "a2494487",
   "metadata": {},
   "source": [
    "### 19. Is there any difference between age groups and insurance claims?"
   ]
  },
  {
   "cell_type": "markdown",
   "id": "03f6da23",
   "metadata": {},
   "source": [
    "**Hypothesis Testing:**\n",
    "\n",
    "- **Null Hypothesis (H0):** There is no variation in insurance claims among different age groups.\n",
    "  \n",
    "- **Alternative Hypothesis (H1):** There is a variation in insurance claims among different age groups.\n",
    "  \n",
    "- **Significance Level:** Set at 0.05.\n",
    "  \n",
    "- **Test Type:** An F-Test will be conducted.\n"
   ]
  },
  {
   "cell_type": "code",
   "execution_count": 157,
   "id": "0aefd6a1",
   "metadata": {},
   "outputs": [
    {
     "data": {
      "text/plain": [
       "F_onewayResult(statistic=0.23029169312878545, pvalue=0.6314330031278861)"
      ]
     },
     "execution_count": 157,
     "metadata": {},
     "output_type": "execute_result"
    }
   ],
   "source": [
    "youth_df =cust_claim_360.loc[cust_claim_360['Cust_cat']==\"Youth\",'total_policy_claims']\n",
    "adult_df = cust_claim_360.loc[cust_claim_360['Cust_cat']==\"Adult\",'total_policy_claims']\n",
    "stats.f_oneway(youth_df, adult_df)"
   ]
  },
  {
   "cell_type": "markdown",
   "id": "fd4843c9",
   "metadata": {},
   "source": [
    "### Conclusion:\n",
    "\n",
    "- As the p-value is greater than 0.05, we fail to reject the null hypothesis.\n",
    "  \n",
    "- There is no difference in insurance claims across different age groups.\n"
   ]
  },
  {
   "cell_type": "code",
   "execution_count": null,
   "id": "a136f284",
   "metadata": {},
   "outputs": [],
   "source": []
  }
 ],
 "metadata": {
  "kernelspec": {
   "display_name": "Python 3 (ipykernel)",
   "language": "python",
   "name": "python3"
  },
  "language_info": {
   "codemirror_mode": {
    "name": "ipython",
    "version": 3
   },
   "file_extension": ".py",
   "mimetype": "text/x-python",
   "name": "python",
   "nbconvert_exporter": "python",
   "pygments_lexer": "ipython3",
   "version": "3.11.5"
  }
 },
 "nbformat": 4,
 "nbformat_minor": 5
}
